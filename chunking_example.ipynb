{
 "cells": [
  {
   "cell_type": "code",
   "execution_count": null,
   "id": "41ea26dd-8151-4256-a6a4-d284fae341ee",
   "metadata": {},
   "outputs": [],
   "source": [
    "import os\n",
    "import json\n",
    "import base64\n",
    "from elasticsearch import Elasticsearch, helpers\n",
    "\n",
    "from pprint import pprint\n",
    "\n",
    "client = Elasticsearch(\n",
    "    hosts=[\"http://localhost:9200\"],\n",
    "    api_key=\"SnppODJKVUJEUXJXcENRZDFndTA6LTJQclVnbllUNE9LLTJiUHJqSnBRZw==\",\n",
    ")\n",
    "\n",
    "resp = client.ping()\n",
    "print(resp)\n",
    "\n",
    "def output(data):\n",
    "    json_data = json.dumps(data.body, indent=4)\n",
    "    print(json_data)\n",
    "\n"
   ]
  },
  {
   "cell_type": "code",
   "execution_count": null,
   "id": "baba3042-3034-458b-a897-7300f5e1d9a7",
   "metadata": {},
   "outputs": [],
   "source": [
    "resp = client.inference.put(\n",
    "    task_type=\"text_embedding\",\n",
    "    inference_id=\"chunking-e5-model\",\n",
    "    inference_config={\n",
    "        \"service\": \"elasticsearch\",\n",
    "        \"service_settings\": {\n",
    "            \"num_allocations\": 1,\n",
    "            \"num_threads\": 1,\n",
    "            \"model_id\": \".multilingual-e5-small\"\n",
    "        }\n",
    "    },\n",
    ")\n",
    "print(resp)\n",
    "\n"
   ]
  },
  {
   "cell_type": "code",
   "execution_count": null,
   "id": "f9bae365-ac48-4af4-bf90-61633e76044d",
   "metadata": {},
   "outputs": [],
   "source": []
  },
  {
   "cell_type": "code",
   "execution_count": null,
   "id": "4271dcb7-c6e1-4cc0-810a-fd2a227ef7dd",
   "metadata": {},
   "outputs": [],
   "source": [
    "\n",
    "resp = client.indices.create(\n",
    "    index=\"chunking-index\",\n",
    "    mappings={\n",
    "        \"properties\": {\n",
    "            \"semantic_text\": {\n",
    "                \"type\": \"semantic_text\",\n",
    "                \"inference_id\": \"chunking-e5-model\"\n",
    "            },\n",
    "            \"attachment.content\": {\n",
    "                \"type\": \"text\",\n",
    "                \"copy_to\": \"semantic_text\"\n",
    "            }\n",
    "        }\n",
    "    },\n",
    ")\n",
    "print(resp)\n",
    "\n"
   ]
  },
  {
   "cell_type": "code",
   "execution_count": null,
   "id": "f539d365-77b1-49af-a89d-9e215209dc0b",
   "metadata": {},
   "outputs": [],
   "source": [
    "resp = client.ingest.put_pipeline(\n",
    "    id=\"attachment\",\n",
    "    description=\"Extract PDF information\",\n",
    "    processors=[\n",
    "        {\n",
    "            \"attachment\": {\n",
    "                \"field\": \"data\",\n",
    "                \"remove_binary\": True\n",
    "            }\n",
    "        }\n",
    "    ],\n",
    ")\n",
    "print(resp)\n",
    "\n"
   ]
  },
  {
   "cell_type": "code",
   "execution_count": null,
   "id": "68713bef-40c6-4724-bfb6-4b3881233845",
   "metadata": {},
   "outputs": [],
   "source": [
    "pipeline_id = 'attachment'  # the pipeline we have created before\n",
    "pdf_dir = 'WAC-BIG/'  # the folder with the documents \n",
    "\n",
    "# Function to convert PDF file to base64-encoded binary\n",
    "\n",
    "def convert_pdf_to_base64(file_path):\n",
    "    with open(file_path, \"rb\") as file:\n",
    "        print(f'processing {file_path}...')\n",
    "        return base64.b64encode(file.read()).decode('utf-8')\n",
    "\n",
    "# Function to generate actions for the bulk API\n",
    "def generate_actions(pdf_dir):\n",
    "    for filename in os.listdir(pdf_dir):\n",
    "        if filename.lower().endswith(\".pdf\"):\n",
    "            file_path = os.path.join(pdf_dir, filename)\n",
    "            base64_encoded = convert_pdf_to_base64(file_path)\n",
    "            yield {\n",
    "                \"_index\": \"chunking-index\",\n",
    "                \"_source\": {\n",
    "                    \"data\": base64_encoded\n",
    "                }\n",
    "            }\n",
    "       \n",
    "\n",
    "# Use the helpers.bulk() function to index documents in bulk\n",
    "helpers.bulk(client, generate_actions(pdf_dir), pipeline=pipeline_id, request_timeout=60*3)\n",
    "\n",
    "print(\"Finished indexing PDF documents.\")"
   ]
  },
  {
   "cell_type": "code",
   "execution_count": null,
   "id": "9cc1a6c2-fa22-4a76-b221-ecc2610fdd5d",
   "metadata": {},
   "outputs": [],
   "source": []
  }
 ],
 "metadata": {
  "kernelspec": {
   "display_name": "Python 3 (ipykernel)",
   "language": "python",
   "name": "python3"
  },
  "language_info": {
   "codemirror_mode": {
    "name": "ipython",
    "version": 3
   },
   "file_extension": ".py",
   "mimetype": "text/x-python",
   "name": "python",
   "nbconvert_exporter": "python",
   "pygments_lexer": "ipython3",
   "version": "3.12.3"
  }
 },
 "nbformat": 4,
 "nbformat_minor": 5
}
